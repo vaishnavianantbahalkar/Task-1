{
 "cells": [
  {
   "cell_type": "markdown",
   "id": "3af459a9",
   "metadata": {},
   "source": [
    "# Vaishnavi Bahalkar\n",
    "# Data Science and Business Analytics Intern(#GRIPJUN21)\n",
    "## @ The Spark Foundation\n",
    "#  Task 1 - \n",
    "##     Prediction using Supervised ML\n",
    "###         1.To Predict the Percentage of student based on the no.of study hours.\n",
    "###         2.To find predicted score if a student studies for 9.25 hrs/day.\n",
    "###         3.Simple linear regression task as it takes only 2 variables."
   ]
  },
  {
   "cell_type": "code",
   "execution_count": null,
   "id": "deb5e09a",
   "metadata": {},
   "outputs": [],
   "source": []
  },
  {
   "cell_type": "code",
   "execution_count": 1,
   "id": "2ef27721",
   "metadata": {},
   "outputs": [],
   "source": [
    "import numpy as np\n",
    "import pandas as pd\n",
    "import matplotlib.pyplot as plt\n",
    "import seaborn as sns\n",
    "import scipy.stats as stats"
   ]
  },
  {
   "cell_type": "markdown",
   "id": "ca2c3f79",
   "metadata": {},
   "source": [
    "#### Reading the dataset"
   ]
  },
  {
   "cell_type": "code",
   "execution_count": 2,
   "id": "47d3fc27",
   "metadata": {},
   "outputs": [],
   "source": [
    "path=\"http://bit.ly/w-data\"\n",
    "data=pd.read_csv(path)"
   ]
  },
  {
   "cell_type": "markdown",
   "id": "07839c4d",
   "metadata": {},
   "source": [
    "#### Reading first 10 columns"
   ]
  },
  {
   "cell_type": "code",
   "execution_count": 3,
   "id": "93999190",
   "metadata": {},
   "outputs": [
    {
     "data": {
      "text/html": [
       "<div>\n",
       "<style scoped>\n",
       "    .dataframe tbody tr th:only-of-type {\n",
       "        vertical-align: middle;\n",
       "    }\n",
       "\n",
       "    .dataframe tbody tr th {\n",
       "        vertical-align: top;\n",
       "    }\n",
       "\n",
       "    .dataframe thead th {\n",
       "        text-align: right;\n",
       "    }\n",
       "</style>\n",
       "<table border=\"1\" class=\"dataframe\">\n",
       "  <thead>\n",
       "    <tr style=\"text-align: right;\">\n",
       "      <th></th>\n",
       "      <th>Hours</th>\n",
       "      <th>Scores</th>\n",
       "    </tr>\n",
       "  </thead>\n",
       "  <tbody>\n",
       "    <tr>\n",
       "      <th>0</th>\n",
       "      <td>2.5</td>\n",
       "      <td>21</td>\n",
       "    </tr>\n",
       "    <tr>\n",
       "      <th>1</th>\n",
       "      <td>5.1</td>\n",
       "      <td>47</td>\n",
       "    </tr>\n",
       "    <tr>\n",
       "      <th>2</th>\n",
       "      <td>3.2</td>\n",
       "      <td>27</td>\n",
       "    </tr>\n",
       "    <tr>\n",
       "      <th>3</th>\n",
       "      <td>8.5</td>\n",
       "      <td>75</td>\n",
       "    </tr>\n",
       "    <tr>\n",
       "      <th>4</th>\n",
       "      <td>3.5</td>\n",
       "      <td>30</td>\n",
       "    </tr>\n",
       "    <tr>\n",
       "      <th>5</th>\n",
       "      <td>1.5</td>\n",
       "      <td>20</td>\n",
       "    </tr>\n",
       "    <tr>\n",
       "      <th>6</th>\n",
       "      <td>9.2</td>\n",
       "      <td>88</td>\n",
       "    </tr>\n",
       "    <tr>\n",
       "      <th>7</th>\n",
       "      <td>5.5</td>\n",
       "      <td>60</td>\n",
       "    </tr>\n",
       "    <tr>\n",
       "      <th>8</th>\n",
       "      <td>8.3</td>\n",
       "      <td>81</td>\n",
       "    </tr>\n",
       "    <tr>\n",
       "      <th>9</th>\n",
       "      <td>2.7</td>\n",
       "      <td>25</td>\n",
       "    </tr>\n",
       "  </tbody>\n",
       "</table>\n",
       "</div>"
      ],
      "text/plain": [
       "   Hours  Scores\n",
       "0    2.5      21\n",
       "1    5.1      47\n",
       "2    3.2      27\n",
       "3    8.5      75\n",
       "4    3.5      30\n",
       "5    1.5      20\n",
       "6    9.2      88\n",
       "7    5.5      60\n",
       "8    8.3      81\n",
       "9    2.7      25"
      ]
     },
     "execution_count": 3,
     "metadata": {},
     "output_type": "execute_result"
    }
   ],
   "source": [
    "data.head(10)"
   ]
  },
  {
   "cell_type": "markdown",
   "id": "c2aa5082",
   "metadata": {},
   "source": [
    "#### Reading the last 10 columns"
   ]
  },
  {
   "cell_type": "code",
   "execution_count": 4,
   "id": "501a5d79",
   "metadata": {},
   "outputs": [
    {
     "data": {
      "text/html": [
       "<div>\n",
       "<style scoped>\n",
       "    .dataframe tbody tr th:only-of-type {\n",
       "        vertical-align: middle;\n",
       "    }\n",
       "\n",
       "    .dataframe tbody tr th {\n",
       "        vertical-align: top;\n",
       "    }\n",
       "\n",
       "    .dataframe thead th {\n",
       "        text-align: right;\n",
       "    }\n",
       "</style>\n",
       "<table border=\"1\" class=\"dataframe\">\n",
       "  <thead>\n",
       "    <tr style=\"text-align: right;\">\n",
       "      <th></th>\n",
       "      <th>Hours</th>\n",
       "      <th>Scores</th>\n",
       "    </tr>\n",
       "  </thead>\n",
       "  <tbody>\n",
       "    <tr>\n",
       "      <th>15</th>\n",
       "      <td>8.9</td>\n",
       "      <td>95</td>\n",
       "    </tr>\n",
       "    <tr>\n",
       "      <th>16</th>\n",
       "      <td>2.5</td>\n",
       "      <td>30</td>\n",
       "    </tr>\n",
       "    <tr>\n",
       "      <th>17</th>\n",
       "      <td>1.9</td>\n",
       "      <td>24</td>\n",
       "    </tr>\n",
       "    <tr>\n",
       "      <th>18</th>\n",
       "      <td>6.1</td>\n",
       "      <td>67</td>\n",
       "    </tr>\n",
       "    <tr>\n",
       "      <th>19</th>\n",
       "      <td>7.4</td>\n",
       "      <td>69</td>\n",
       "    </tr>\n",
       "    <tr>\n",
       "      <th>20</th>\n",
       "      <td>2.7</td>\n",
       "      <td>30</td>\n",
       "    </tr>\n",
       "    <tr>\n",
       "      <th>21</th>\n",
       "      <td>4.8</td>\n",
       "      <td>54</td>\n",
       "    </tr>\n",
       "    <tr>\n",
       "      <th>22</th>\n",
       "      <td>3.8</td>\n",
       "      <td>35</td>\n",
       "    </tr>\n",
       "    <tr>\n",
       "      <th>23</th>\n",
       "      <td>6.9</td>\n",
       "      <td>76</td>\n",
       "    </tr>\n",
       "    <tr>\n",
       "      <th>24</th>\n",
       "      <td>7.8</td>\n",
       "      <td>86</td>\n",
       "    </tr>\n",
       "  </tbody>\n",
       "</table>\n",
       "</div>"
      ],
      "text/plain": [
       "    Hours  Scores\n",
       "15    8.9      95\n",
       "16    2.5      30\n",
       "17    1.9      24\n",
       "18    6.1      67\n",
       "19    7.4      69\n",
       "20    2.7      30\n",
       "21    4.8      54\n",
       "22    3.8      35\n",
       "23    6.9      76\n",
       "24    7.8      86"
      ]
     },
     "execution_count": 4,
     "metadata": {},
     "output_type": "execute_result"
    }
   ],
   "source": [
    "data.tail(10)"
   ]
  },
  {
   "cell_type": "markdown",
   "id": "292900ee",
   "metadata": {},
   "source": [
    "#### Ploting the distribution of scores"
   ]
  },
  {
   "cell_type": "code",
   "execution_count": 5,
   "id": "fcd129f9",
   "metadata": {},
   "outputs": [
    {
     "data": {
      "image/png": "[encoded data removed]",
      "text/plain": [
       "<Figure size 432x288 with 1 Axes>"
      ]
     },
     "metadata": {
      "needs_background": "light"
     },
     "output_type": "display_data"
    }
   ],
   "source": [
    "data.plot(x='Hours',y='Scores',style='o',c='g')\n",
    "plt.title(\"Hours VS Percentages\")\n",
    "plt.xlabel(\"Studied Hours\")\n",
    "plt.ylabel(\"Percentage Scores\")\n",
    "plt.show()"
   ]
  },
  {
   "cell_type": "markdown",
   "id": "152fb31f",
   "metadata": {},
   "source": [
    "#### Dividing data into inputs and outputs"
   ]
  },
  {
   "cell_type": "code",
   "execution_count": 6,
   "id": "593e0fad",
   "metadata": {},
   "outputs": [],
   "source": [
    "x=data.iloc[:,:-1].values\n",
    "y=data.iloc[:,1].values"
   ]
  },
  {
   "cell_type": "code",
   "execution_count": 7,
   "id": "3389de80",
   "metadata": {},
   "outputs": [
    {
     "data": {
      "text/plain": [
       "array([[2.5],\n",
       "       [5.1],\n",
       "       [3.2],\n",
       "       [8.5],\n",
       "       [3.5],\n",
       "       [1.5],\n",
       "       [9.2],\n",
       "       [5.5],\n",
       "       [8.3],\n",
       "       [2.7],\n",
       "       [7.7],\n",
       "       [5.9],\n",
       "       [4.5],\n",
       "       [3.3],\n",
       "       [1.1],\n",
       "       [8.9],\n",
       "       [2.5],\n",
       "       [1.9],\n",
       "       [6.1],\n",
       "       [7.4],\n",
       "       [2.7],\n",
       "       [4.8],\n",
       "       [3.8],\n",
       "       [6.9],\n",
       "       [7.8]])"
      ]
     },
     "execution_count": 7,
     "metadata": {},
     "output_type": "execute_result"
    }
   ],
   "source": [
    "x"
   ]
  },
  {
   "cell_type": "code",
   "execution_count": 8,
   "id": "95566033",
   "metadata": {},
   "outputs": [
    {
     "data": {
      "text/plain": [
       "array([21, 47, 27, 75, 30, 20, 88, 60, 81, 25, 85, 62, 41, 42, 17, 95, 30,\n",
       "       24, 67, 69, 30, 54, 35, 76, 86], dtype=int64)"
      ]
     },
     "execution_count": 8,
     "metadata": {},
     "output_type": "execute_result"
    }
   ],
   "source": [
    "y"
   ]
  },
  {
   "cell_type": "markdown",
   "id": "ae409f94",
   "metadata": {},
   "source": [
    "#### spliting the data into training sets"
   ]
  },
  {
   "cell_type": "code",
   "execution_count": 9,
   "id": "f8a4fc8a",
   "metadata": {},
   "outputs": [
    {
     "data": {
      "text/plain": [
       "'where m->no.of features\\n         n->no.of observations'"
      ]
     },
     "execution_count": 9,
     "metadata": {},
     "output_type": "execute_result"
    }
   ],
   "source": [
    "from sklearn.model_selection import train_test_split\n",
    "x_train,x_test,y_train,y_test=train_test_split(x.reshape(-1,1),y,test_size=0.2)\n",
    "\n",
    "#scikit dosen't work with scalers(single value). Hence, replacing its dimension.\n",
    "#It expects a shape(m x  n)\n",
    "'''where m->no.of features\n",
    "         n->no.of observations'''"
   ]
  },
  {
   "cell_type": "markdown",
   "id": "481b1813",
   "metadata": {},
   "source": [
    "#### Training the algorithm"
   ]
  },
  {
   "cell_type": "code",
   "execution_count": 10,
   "id": "13c94816",
   "metadata": {},
   "outputs": [
    {
     "data": {
      "text/plain": [
       "LinearRegression()"
      ]
     },
     "execution_count": 10,
     "metadata": {},
     "output_type": "execute_result"
    }
   ],
   "source": [
    "from sklearn.linear_model import LinearRegression\n",
    "regressor=LinearRegression()\n",
    "regressor.fit(x_train,y_train)"
   ]
  },
  {
   "cell_type": "code",
   "execution_count": 11,
   "id": "b7dd926c",
   "metadata": {},
   "outputs": [
    {
     "name": "stdout",
     "output_type": "stream",
     "text": [
      "Training Completed Successfully ! \n"
     ]
    }
   ],
   "source": [
    "print(\"Training Completed Successfully ! \")"
   ]
  },
  {
   "cell_type": "markdown",
   "id": "68442bca",
   "metadata": {},
   "source": [
    "#### Plotting the linear regression line"
   ]
  },
  {
   "cell_type": "code",
   "execution_count": 12,
   "id": "ef720d71",
   "metadata": {},
   "outputs": [
    {
     "data": {
      "image/png": "[encoded data removed]",
      "text/plain": [
       "<Figure size 432x288 with 1 Axes>"
      ]
     },
     "metadata": {
      "needs_background": "light"
     },
     "output_type": "display_data"
    }
   ],
   "source": [
    "line=regressor.coef_* x + regressor.intercept_\n",
    "plt.scatter(x,y)\n",
    "plt.plot(x,line,c='r')\n",
    "plt.show()"
   ]
  },
  {
   "cell_type": "markdown",
   "id": "44623c6d",
   "metadata": {},
   "source": [
    "#### Prediction"
   ]
  },
  {
   "cell_type": "code",
   "execution_count": 13,
   "id": "4750270c",
   "metadata": {},
   "outputs": [
    {
     "name": "stdout",
     "output_type": "stream",
     "text": [
      "[[3.2]\n",
      " [2.5]\n",
      " [7.4]\n",
      " [8.9]\n",
      " [1.1]]\n"
     ]
    }
   ],
   "source": [
    "#testing data(in hours)\n",
    "print(x_test)\n",
    "\n",
    "#predicting scores\n",
    "y_pred=regressor.predict(x_test)\n"
   ]
  },
  {
   "cell_type": "markdown",
   "id": "3053bffd",
   "metadata": {},
   "source": [
    "#### Comparing actual and predicted values"
   ]
  },
  {
   "cell_type": "code",
   "execution_count": 14,
   "id": "5c81186c",
   "metadata": {},
   "outputs": [
    {
     "name": "stdout",
     "output_type": "stream",
     "text": [
      "   Actual  Predicted\n",
      "0      27  33.731044\n",
      "1      30  26.870694\n",
      "2      69  74.893146\n",
      "3      95  89.593896\n",
      "4      17  13.149993\n"
     ]
    }
   ],
   "source": [
    "df=pd.DataFrame({'Actual':y_test,'Predicted':y_pred})\n",
    "print(df)"
   ]
  },
  {
   "cell_type": "markdown",
   "id": "6fc63450",
   "metadata": {},
   "source": [
    "#### Testing with our data"
   ]
  },
  {
   "cell_type": "code",
   "execution_count": 15,
   "id": "1c7af4bc",
   "metadata": {},
   "outputs": [],
   "source": [
    "#given testcase\n",
    "hours=9.25\n",
    "own_pred=regressor.predict([[hours]])"
   ]
  },
  {
   "cell_type": "code",
   "execution_count": 16,
   "id": "3dd765a5",
   "metadata": {},
   "outputs": [
    {
     "name": "stdout",
     "output_type": "stream",
     "text": [
      "Hours:9.25\n",
      "Predicted Score:93.02407158460763\n"
     ]
    }
   ],
   "source": [
    "print(\"Hours:{}\".format(hours))\n",
    "print(\"Predicted Score:{}\".format(own_pred[0]))"
   ]
  },
  {
   "cell_type": "markdown",
   "id": "52f11e9c",
   "metadata": {},
   "source": [
    "#### Evaluating our algorithm"
   ]
  },
  {
   "cell_type": "code",
   "execution_count": 17,
   "id": "f2b18e4f",
   "metadata": {},
   "outputs": [],
   "source": [
    "from sklearn import metrics"
   ]
  },
  {
   "cell_type": "markdown",
   "id": "60995b0b",
   "metadata": {},
   "source": [
    "#### Mean evaluate error"
   ]
  },
  {
   "cell_type": "code",
   "execution_count": 18,
   "id": "256f38b1",
   "metadata": {},
   "outputs": [
    {
     "name": "stdout",
     "output_type": "stream",
     "text": [
      "Mean Absolute Error: 5.00192124572901\n"
     ]
    }
   ],
   "source": [
    "print(\"Mean Absolute Error:\",metrics.mean_absolute_error(y_test,y_pred))"
   ]
  },
  {
   "cell_type": "markdown",
   "id": "5fd594a2",
   "metadata": {},
   "source": [
    "#### Mean square error"
   ]
  },
  {
   "cell_type": "code",
   "execution_count": 19,
   "id": "8c53343e",
   "metadata": {},
   "outputs": [
    {
     "name": "stdout",
     "output_type": "stream",
     "text": [
      "Mean square Error: 26.77543744245893\n"
     ]
    }
   ],
   "source": [
    "print(\"Mean square Error:\",metrics.mean_squared_error(y_test,y_pred))"
   ]
  },
  {
   "cell_type": "markdown",
   "id": "e9db6217",
   "metadata": {},
   "source": [
    "## Task 1 completed Successfully !!"
   ]
  },
  {
   "cell_type": "code",
   "execution_count": null,
   "id": "b37a19a2",
   "metadata": {},
   "outputs": [],
   "source": []
  }
 ],
 "metadata": {
  "kernelspec": {
   "display_name": "Python 3",
   "language": "python",
   "name": "python3"
  },
  "language_info": {
   "codemirror_mode": {
    "name": "ipython",
    "version": 3
   },
   "file_extension": ".py",
   "mimetype": "text/x-python",
   "name": "python",
   "nbconvert_exporter": "python",
   "pygments_lexer": "ipython3",
   "version": "3.8.8"
  }
 },
 "nbformat": 4,
 "nbformat_minor": 5
}
